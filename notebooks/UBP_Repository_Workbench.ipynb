{
 "cells": [
  {
   "cell_type": "markdown",
   "metadata": {},
   "source": [
    "# Universal Binary Principle (UBP) Repository Workbench\n",
    "\n",
    "This notebook demonstrates an **integrated computational environment** for the entire UBP repository. It pulls together:\n",
    "- **CRV Catalog:** Loads and edits your core resonance values from CSV.\n",
    "- **HGR Engine:** Computes, analyzes, and visualizes harmonic geometric rules and resonance parameters.\n",
    "- **Data Generation:** Uses geometric generators to create new forms.\n",
    "- **Analysis & Visualization:** Provides realm-based statistics, CRV distribution, and geometric mapping examples.\n",
    "- **Editable & Expandable:** You can add new data, columns, and run custom calculations.\n",
    "\n",
    "This notebook is designed to be run in Jupyter or Google Colab after cloning your repository. All changes are live and update your CSV/data files directly."
   ]
  },
  {
   "cell_type": "code",
   "execution_count": null,
   "metadata": {},
   "outputs": [],
   "source": [
    "# If using Colab, clone your repo and cd into it. Otherwise, ensure you're in the repo root.\n",
    "# !git clone https://github.com/YourUsername/your-repo.git\n",
    "# %cd your-repo"
   ]
  },
  {
   "cell_type": "code",
   "execution_count": null,
   "metadata": {},
   "outputs": [],
   "source": [
    "# Install pandas and numpy if needed\n",
    "try:\n",
    "    import pandas as pd\n",
    "    import numpy as np\n",
    "except ImportError:\n",
    "    !pip install pandas numpy\n",
    "    import pandas as pd\n",
    "    import numpy as np"
   ]
  },
  {
   "cell_type": "code",
   "execution_count": null,
   "metadata": {},
   "outputs": [],
   "source": [
    "# Set up Python path so modules can be imported\n",
    "import sys\n",
    "sys.path.append('.')"
   ]
  },
  {
   "cell_type": "markdown",
   "metadata": {},
   "source": [
    "## 1. Load CRV Catalog and Loader"
   ]
  },
  {
   "cell_type": "code",
   "execution_count": null,
   "metadata": {},
   "outputs": [],
   "source": [
    "from python.crv.loader import CRVCatalog\n",
    "DATA_PATH = \"data/crv_catalog.csv\"\n",
    "catalog = CRVCatalog(DATA_PATH)\n",
    "print(f\"Loaded {len(catalog.df)} CRV nodes.\")"
   ]
  },
  {
   "cell_type": "markdown",
   "metadata": {},
   "source": [
    "## 2. Load HGR Engine and Geometric Generators"
   ]
  },
  {
   "cell_type": "code",
   "execution_count": null,
   "metadata": {},
   "outputs": [],
   "source": [
    "from python.hgr.core import HGR\n",
    "from python.hgr.generators import generate_sphere_points, generate_noisy_tetrahedron, generate_torus_points"
   ]
  },
  {
   "cell_type": "markdown",
   "metadata": {},
   "source": [
    "## 3. Display and Analyze CRV Data"
   ]
  },
  {
   "cell_type": "code",
   "execution_count": null,
   "metadata": {},
   "outputs": [],
   "source": [
    "catalog.df.head(10)  # Show first 10 CRV nodes"
   ]
  },
  {
   "cell_type": "markdown",
   "metadata": {},
   "source": [
    "### Realm Distribution, Frequency, and CRV Statistics"
   ]
  },
  {
   "cell_type": "code",
   "execution_count": null,
   "metadata": {},
   "outputs": [],
   "source": [
    "from python.crv.analysis import realm_distribution, known_vs_new_constants, frequency_stats, crv_statistics\n",
    "\n",
    "print('Node counts by realm:')\n",
    "print(realm_distribution(catalog.all_nodes()))\n",
    "\n",
    "print('Known vs New constants:')\n",
    "print(known_vs_new_constants(catalog.all_nodes()))\n",
    "\n",
    "print('Frequency stats:')\n",
    "print(frequency_stats(catalog.all_nodes()))\n",
    "\n",
    "print('CRV value stats:')\n",
    "print(crv_statistics(catalog.all_nodes()))"
   ]
  },
  {
   "cell_type": "markdown",
   "metadata": {},
   "source": [
    "## 4. Generate New Geometric Data and Compute CRV/Stability\n",
    "Use HGR engine and generators to create new forms and compute their resonance values."
   ]
  },
  {
   "cell_type": "code",
   "execution_count": null,
   "metadata": {},
   "outputs": [],
   "source": [
    "# Generate a sphere (12 points)\n",
    "sphere_pts = generate_sphere_points(12)\n",
    "for idx, pt in enumerate(sphere_pts):\n",
    "    crv_val = HGR.crv_from_geometry('sphere', pt)\n",
    "    stability = HGR.calculate_stability(crv_val)\n",
    "    print(f\"Sphere point {idx}: CRV={crv_val:.3f}, Stability={stability:.3f}\")"
   ]
  },
  {
   "cell_type": "markdown",
   "metadata": {},
   "source": [
    "## 5. Visualization Example (CRV Distribution by Realm)"
   ]
  },
  {
   "cell_type": "code",
   "execution_count": null,
   "metadata": {},
   "outputs": [],
   "source": [
    "import matplotlib.pyplot as plt\n",
    "realm_crvs = catalog.df.groupby('Realm')['CRV_Value'].mean()\n",
    "plt.figure(figsize=(8,4))\n",
    "realm_crvs.plot(kind='bar', color='skyblue')\n",
    "plt.ylabel('Mean CRV Value')\n",
    "plt.title('Mean CRV Value by Realm')\n",
    "plt.show()"
   ]
  },
  {
   "cell_type": "markdown",
   "metadata": {},
   "source": [
    "## 6. Editing and Expanding the CRV Catalog\n",
    "Add new columns or edit values directly in the notebook."
   ]
  },
  {
   "cell_type": "code",
   "execution_count": null,
   "metadata": {},
   "outputs": [],
   "source": [
    "# Example: Add a new column 'Rune' and set for Node 1\n",
    "catalog.add_column('Rune', default='')\n",
    "catalog.set_value(1, 'Rune', 'Psi')\n",
    "catalog.save()\n",
    "catalog.get_node(1)"
   ]
  },
  {
   "cell_type": "markdown",
   "metadata": {},
   "source": [
    "## 7. Integration: Use CRV and HGR Together\n",
    "Generate a new geometric node, compute CRV/stability, assign frequency, and add to catalog."
   ]
  },
  {
   "cell_type": "code",
   "execution_count": null,
   "metadata": {},
   "outputs": [],
   "source": [
    "# Make a new node from a torus generator\n",
    "new_pt = generate_torus_points(1)[0]\n",
    "new_crv = HGR.crv_from_geometry('torus', new_pt)\n",
    "new_stab = HGR.calculate_stability(new_crv)\n",
    "new_freq = HGR.assign_frequency(new_crv, 'electromagnetic')\n",
    "\n",
    "# Add to catalog (as a dict)\n",
    "new_node = {\n",
    "    'Node_ID': catalog.df['Node_ID'].max()+1,\n",
    "    'Solid': 'torus',\n",
    "    'Node_Type': 'vertex',\n",
    "    'Node_Index': 0,\n",
    "    'Position_X': new_pt[0],\n",
    "    'Position_Y': new_pt[1],\n",
    "    'Position_Z': new_pt[2],\n",
    "    'CRV_Name': 'TorusCRV',\n",
    "    'CRV_Value': new_crv,\n",
    "    'CRV_Symbol': '',\n",
    "    'CRV_Type': 'generated',\n",
    "    'Is_Known_Constant': False,\n",
    "    'Realm': 'electromagnetic',\n",
    "    'Wavelength_nm': '',\n",
    "    'Frequency_Hz': new_freq,\n",
    "    'Description': 'Generated from notebook',\n",
    "    'Rune': ''\n",
    "}\n",
    "# Append to the DataFrame and save\n",
    "catalog.df = pd.concat([catalog.df, pd.DataFrame([new_node])], ignore_index=True)\n",
    "catalog.save()\n",
    "catalog.df.tail(1)"
   ]
  },
  {
   "cell_type": "markdown",
   "metadata": {},
   "source": [
    "## 8. Save and Download Results\n",
    "All changes are saved to your local CSV. You can download or commit your results."
   ]
  },
  {
   "cell_type": "code",
   "execution_count": null,
   "metadata": {},
   "outputs": [],
   "source": [
    "# To download from Colab, uncomment:\n",
    "# from google.colab import files\n",
    "# files.download('data/crv_catalog.csv')"
   ]
  },
  {
   "cell_type": "markdown",
   "metadata": {},
   "source": [
    "## 9. Next Steps & Extensions\n",
    "- Add more generators, analysis, or visualization.\n",
    "- Link to other modules (GLR, NRCI, Bitfield, etc.) in new cells.\n",
    "- Share this notebook or commit it to your repo as a template."
   ]
  }
 ],
 "metadata": {
  "kernelspec": {
   "display_name": "Python 3",
   "language": "python",
   "name": "python3"
  },
  "language_info": {
   "name": "python",
   "version": ""
  }
 },
 "nbformat": 4,
 "nbformat_minor": 5
}
